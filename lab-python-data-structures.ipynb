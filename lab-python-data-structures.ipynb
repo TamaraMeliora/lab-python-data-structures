{
 "cells": [
  {
   "cell_type": "markdown",
   "metadata": {
    "tags": []
   },
   "source": [
    "# Lab | Data Structures "
   ]
  },
  {
   "cell_type": "markdown",
   "metadata": {},
   "source": [
    "## Exercise: Managing Customer Orders\n",
    "\n",
    "As part of a business venture, you are starting an online store that sells various products. To ensure smooth operations, you need to develop a program that manages customer orders and inventory.\n",
    "\n",
    "Follow the steps below to complete the exercise:\n",
    "\n",
    "1. Define a list called `products` that contains the following items: \"t-shirt\", \"mug\", \"hat\", \"book\", \"keychain\".\n",
    "\n",
    "2. Create an empty dictionary called `inventory`.\n",
    "\n",
    "3. Ask the user to input the quantity of each product available in the inventory. Use the product names from the `products` list as keys in the `inventory` dictionary and assign the respective quantities as values.\n",
    "\n",
    "4. Create an empty set called `customer_orders`.\n",
    "\n",
    "5. Ask the user to input the name of three products that a customer wants to order (from those in the products list, meaning three products out of \"t-shirt\", \"mug\", \"hat\", \"book\" or \"keychain\". Add each product name to the `customer_orders` set.\n",
    "\n",
    "6. Print the products in the `customer_orders` set.\n",
    "\n",
    "7. Calculate the following order statistics:\n",
    "   - Total Products Ordered: The total number of products in the `customer_orders` set.\n",
    "   - Percentage of Products Ordered: The percentage of products ordered compared to the total available products.\n",
    "   \n",
    "   Store these statistics in a tuple called `order_status`.\n",
    "\n",
    "8. Print the order statistics using the following format:\n",
    "   ```\n",
    "   Order Statistics:\n",
    "   Total Products Ordered: <total_products_ordered>\n",
    "   Percentage of Products Ordered: <percentage_ordered>% \n",
    "   ```\n",
    "\n",
    "9. Update the inventory by subtracting 1 from the quantity of each product. Modify the `inventory` dictionary accordingly.\n",
    "\n",
    "10. Print the updated inventory, displaying the quantity of each product on separate lines.\n",
    "\n",
    "Solve the exercise by implementing the steps using the Python concepts of lists, dictionaries, sets, and basic input/output operations. "
   ]
  },
  {
   "cell_type": "code",
   "execution_count": 3,
   "metadata": {},
   "outputs": [
    {
     "name": "stdout",
     "output_type": "stream",
     "text": [
      "{}\n"
     ]
    },
    {
     "name": "stdin",
     "output_type": "stream",
     "text": [
      "Input the quantity of t-shirt:  1\n",
      "Input the quantity of mug:  2\n",
      "Input the quantity of hat:  3\n",
      "Input the quantity of book:  4\n",
      "Input the quantity of keychain:  5\n",
      "Insert three products you want to order (separate by spaces):  mug hat book\n"
     ]
    },
    {
     "name": "stdout",
     "output_type": "stream",
     "text": [
      "Customer's order: {'hat', 'book', 'mug'}\n",
      "Total products ordered: 9\n",
      "Percentage of Products Ordered: 60.0%\n",
      "t-shirt: 0\n",
      "mug: 1\n",
      "hat: 2\n",
      "book: 3\n",
      "keychain: 4\n"
     ]
    }
   ],
   "source": [
    "products = [\"t-shirt\", \"mug\", \"hat\", \"book\", \"keychain\"]\n",
    "products\n",
    "inventory = dict()\n",
    "print(inventory)\n",
    "T_shirt = int(input(\"Input the quantity of t-shirt: \"))\n",
    "Mug = int(input(\"Input the quantity of mug: \"));\n",
    "Hat = int(input(\"Input the quantity of hat: \"));\n",
    "Book = int(input(\"Input the quantity of book: \"));\n",
    "Keychain = int(input(\"Input the quantity of keychain: \"));\n",
    "inventory = {'t-shirt': T_shirt, 'mug': Mug, 'hat': Hat, 'book': Book, 'keychain': Keychain}\n",
    "inventory\n",
    "total_products_inventory = sum(inventory.values())\n",
    "customer_orders = set()\n",
    "customer_orders\n",
    "order = input(\"Insert three products you want to order (separate by spaces): \").lower()\n",
    "products = order.split()\n",
    "customer_orders = set()\n",
    "\n",
    "for product in products:\n",
    "    if product in inventory:\n",
    "        customer_orders.add(product)\n",
    "    else:\n",
    "        print(f\"Invalid product: {product}\")\n",
    "\n",
    "print(\"Customer's order:\", customer_orders)\n",
    "total_products_ordered = int(sum(inventory[product] for product in customer_orders))\n",
    "print(f\"Total products ordered: {total_products_ordered}\")\n",
    "percentage_of_products_ordered = total_products_ordered/total_products_inventory*100\n",
    "print(f\"Percentage of Products Ordered: {percentage_of_products_ordered}\"\"%\")\n",
    "for key in inventory:\n",
    "    inventory[key] -= 1\n",
    "for product, quantity in inventory.items():\n",
    "    print(f\"{product}: {quantity}\")"
   ]
  },
  {
   "cell_type": "code",
   "execution_count": null,
   "metadata": {},
   "outputs": [],
   "source": []
  }
 ],
 "metadata": {
  "kernelspec": {
   "display_name": "Python 3 (ipykernel)",
   "language": "python",
   "name": "python3"
  },
  "language_info": {
   "codemirror_mode": {
    "name": "ipython",
    "version": 3
   },
   "file_extension": ".py",
   "mimetype": "text/x-python",
   "name": "python",
   "nbconvert_exporter": "python",
   "pygments_lexer": "ipython3",
   "version": "3.13.3"
  }
 },
 "nbformat": 4,
 "nbformat_minor": 4
}
